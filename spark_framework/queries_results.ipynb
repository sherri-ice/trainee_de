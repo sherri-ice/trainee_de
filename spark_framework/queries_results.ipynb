{
 "cells": [
  {
   "cell_type": "markdown",
   "source": [
    "# Before start"
   ],
   "metadata": {
    "collapsed": false
   }
  },
  {
   "cell_type": "code",
   "execution_count": 2,
   "outputs": [],
   "source": [
    "import findspark\n",
    "\n",
    "findspark.init()"
   ],
   "metadata": {
    "collapsed": false
   }
  },
  {
   "cell_type": "code",
   "execution_count": 3,
   "outputs": [
    {
     "name": "stdout",
     "output_type": "stream",
     "text": [
      "23/02/09 14:12:17 WARN Utils: Your hostname, katerina-ubuntu resolves to a loopback address: 127.0.1.1; using 10.202.48.114 instead (on interface wlp2s0)\n",
      "23/02/09 14:12:17 WARN Utils: Set SPARK_LOCAL_IP if you need to bind to another address\n",
      "23/02/09 14:12:18 WARN NativeCodeLoader: Unable to load native-hadoop library for your platform... using builtin-java classes where applicable\n"
     ]
    },
    {
     "name": "stderr",
     "output_type": "stream",
     "text": [
      "Setting default log level to \"WARN\".\n",
      "To adjust logging level use sc.setLogLevel(newLevel). For SparkR, use setLogLevel(newLevel).\n"
     ]
    }
   ],
   "source": [
    "from pyspark.sql import SparkSession\n",
    "\n",
    "# local[1] means start locally with 1 core\n",
    "spark = SparkSession.builder \\\n",
    "    .config(\"spark.jars\", \"/usr/local/postgresql-42.5.2.jar\") \\\n",
    "    .master(\"local[1]\") \\\n",
    "    .appName(\"spark_framework\") \\\n",
    "    .getOrCreate()\n",
    "\n",
    "spark.sparkContext.setLogLevel(logLevel=\"ERROR\")"
   ],
   "metadata": {
    "collapsed": false
   }
  },
  {
   "cell_type": "code",
   "execution_count": 4,
   "outputs": [],
   "source": [
    "import os\n",
    "from dotenv import load_dotenv\n",
    "\n",
    "load_dotenv(\".env\")\n",
    "\n",
    "postgresql_user = os.getenv('POSTGRESQL_USER')\n",
    "postgresql_password = os.getenv('POSTGRESQL_PASSWORD')\n",
    "spark_home = os.getenv('SPARK_HOME')\n",
    "postgres_port = os.getenv('CONTAINER_PORT')"
   ],
   "metadata": {
    "collapsed": false
   }
  },
  {
   "cell_type": "code",
   "execution_count": 5,
   "outputs": [],
   "source": [
    "jdbc_connector = spark.read \\\n",
    "    .format('jdbc') \\\n",
    "    .option('driver', 'org.postgresql.Driver') \\\n",
    "    .option('url', f'jdbc:postgresql://localhost:{postgres_port}/postgres') \\\n",
    "    .option('user', postgresql_user) \\\n",
    "    .option('password', postgresql_password)"
   ],
   "metadata": {
    "collapsed": false
   }
  },
  {
   "cell_type": "code",
   "execution_count": 6,
   "outputs": [],
   "source": [
    "def load_tables(tables_names: list[str]):\n",
    "    tables = {}\n",
    "    for name in tables_names:\n",
    "        tables[name] = jdbc_connector.option('dbtable', name).load()\n",
    "    return tables"
   ],
   "metadata": {
    "collapsed": false
   }
  },
  {
   "cell_type": "code",
   "execution_count": 24,
   "outputs": [],
   "source": [
    "tables_names = ['actor', 'film', 'category',\n",
    "                'film_category', 'film_actor',\n",
    "                'inventory', 'customer',\n",
    "                'address', 'city',\n",
    "                'rental']\n",
    "tables = load_tables(tables_names)"
   ],
   "metadata": {
    "collapsed": false
   }
  },
  {
   "cell_type": "markdown",
   "source": [
    "# Вывести количество фильмов в каждой категории, отсортировать по убыванию."
   ],
   "metadata": {
    "collapsed": false
   }
  },
  {
   "cell_type": "code",
   "execution_count": 25,
   "outputs": [],
   "source": [
    "from pyspark.sql.functions import count, col\n",
    "\n",
    "result = tables['film_category'] \\\n",
    "    .join(tables['category'], on='category_id', how='left') \\\n",
    "    .groupby('category_id', 'name') \\\n",
    "    .agg(count('film_id').alias('number_of_films')) \\\n",
    "    .select('category_id', 'name', 'number_of_films') \\\n",
    "    .orderBy(col('number_of_films').desc())"
   ],
   "metadata": {
    "collapsed": false
   }
  },
  {
   "cell_type": "code",
   "execution_count": 26,
   "outputs": [
    {
     "name": "stdout",
     "output_type": "stream",
     "text": [
      "+-----------+-----------+---------------+\n",
      "|category_id|       name|number_of_films|\n",
      "+-----------+-----------+---------------+\n",
      "|         15|     Sports|             74|\n",
      "|          9|    Foreign|             73|\n",
      "|          8|     Family|             69|\n",
      "|          6|Documentary|             68|\n",
      "|          2|  Animation|             66|\n",
      "|          1|     Action|             64|\n",
      "|         13|        New|             63|\n",
      "|          7|      Drama|             62|\n",
      "|         10|      Games|             61|\n",
      "|         14|     Sci-Fi|             61|\n",
      "|          3|   Children|             60|\n",
      "|          5|     Comedy|             58|\n",
      "|         16|     Travel|             57|\n",
      "|          4|   Classics|             57|\n",
      "|         11|     Horror|             56|\n",
      "|         12|      Music|             51|\n",
      "+-----------+-----------+---------------+\n",
      "\n"
     ]
    }
   ],
   "source": [
    "result.show()"
   ],
   "metadata": {
    "collapsed": false
   }
  },
  {
   "cell_type": "markdown",
   "source": [
    "# Вывести 10 актеров, чьи фильмы большего всего арендовали, отсортировать по убыванию."
   ],
   "metadata": {
    "collapsed": false
   }
  },
  {
   "cell_type": "code",
   "execution_count": 27,
   "outputs": [],
   "source": [
    "# кто ж знал что будет перекликаться с питоновским sum()..\n",
    "from pyspark.sql.functions import sum as _sum\n",
    "\n",
    "result = tables['film']\\\n",
    "    .join(tables['film_actor'], on='film_id', how='left')\\\n",
    "    .join(tables['actor'], on='actor_id')\\\n",
    "    .groupby('actor_id', 'first_name', 'last_name')\\\n",
    "    .agg(_sum('rental_duration').alias('rental_duration'))\\\n",
    "    .select('first_name', 'last_name', 'rental_duration')\\\n",
    "    .orderBy(col('rental_duration').desc())"
   ],
   "metadata": {
    "collapsed": false
   }
  },
  {
   "cell_type": "code",
   "execution_count": 28,
   "outputs": [
    {
     "name": "stdout",
     "output_type": "stream",
     "text": [
      "+----------+-----------+---------------+\n",
      "|first_name|  last_name|rental_duration|\n",
      "+----------+-----------+---------------+\n",
      "|      GINA|  DEGENERES|            209|\n",
      "|    WALTER|       TORN|            201|\n",
      "|      MARY|     KEITEL|            192|\n",
      "|   MATTHEW|     CARREY|            190|\n",
      "|    ANGELA|     HUDSON|            183|\n",
      "|   GROUCHO|      DUNST|            183|\n",
      "|    SANDRA|     KILMER|            181|\n",
      "|     HENRY|      BERRY|            180|\n",
      "|       UMA|       WOOD|            179|\n",
      "|    WARREN|    JACKMAN|            178|\n",
      "|   NATALIE|    HOPKINS|            174|\n",
      "|    ANGELA|WITHERSPOON|            174|\n",
      "|       VAL|     BOLGER|            173|\n",
      "|     JULIA|    MCQUEEN|            172|\n",
      "|      MARY|      TANDY|            172|\n",
      "|    SIDNEY|      CROWE|            172|\n",
      "|    VIVIEN|   BASINGER|            172|\n",
      "|   RUSSELL|     TEMPLE|            171|\n",
      "|      SEAN|    GUINESS|            171|\n",
      "|    HARVEY|       HOPE|            169|\n",
      "+----------+-----------+---------------+\n",
      "only showing top 20 rows\n",
      "\n"
     ]
    }
   ],
   "source": [
    "result.show()"
   ],
   "metadata": {
    "collapsed": false
   }
  },
  {
   "cell_type": "markdown",
   "source": [
    "# Вывести категорию фильмов, на которую потратили больше всего денег.\n",
    "А как читать из view?"
   ],
   "metadata": {
    "collapsed": false
   }
  },
  {
   "cell_type": "code",
   "execution_count": 29,
   "outputs": [],
   "source": [
    "result = tables['category'] \\\n",
    "    .join(tables['film_category'], on='category_id') \\\n",
    "    .join(tables['film'], on='film_id') \\\n",
    "    .groupby('category_id', 'name') \\\n",
    "    .agg(_sum('replacement_cost').alias('sum_of_replacement_cost')) \\\n",
    "    .select('category_id', 'name', 'sum_of_replacement_cost') \\\n",
    "    .orderBy(col('sum_of_replacement_cost').desc()) \\\n",
    "    .limit(1)"
   ],
   "metadata": {
    "collapsed": false
   }
  },
  {
   "cell_type": "code",
   "execution_count": 30,
   "outputs": [
    {
     "name": "stdout",
     "output_type": "stream",
     "text": [
      "+-----------+------+-----------------------+\n",
      "|category_id|  name|sum_of_replacement_cost|\n",
      "+-----------+------+-----------------------+\n",
      "|         15|Sports|                1509.26|\n",
      "+-----------+------+-----------------------+\n",
      "\n"
     ]
    }
   ],
   "source": [
    "result.show()"
   ],
   "metadata": {
    "collapsed": false
   }
  },
  {
   "cell_type": "markdown",
   "source": [
    " # Вывести названия фильмов, которых нет в inventory."
   ],
   "metadata": {
    "collapsed": false
   }
  },
  {
   "cell_type": "code",
   "execution_count": 31,
   "outputs": [],
   "source": [
    "result = tables['film']\\\n",
    "    .join(tables['inventory'], on='film_id', how='leftanti')\\\n",
    "    .select('film_id', 'title')"
   ],
   "metadata": {
    "collapsed": false
   }
  },
  {
   "cell_type": "code",
   "execution_count": 32,
   "outputs": [
    {
     "name": "stdout",
     "output_type": "stream",
     "text": [
      "+-------+--------------------+\n",
      "|film_id|               title|\n",
      "+-------+--------------------+\n",
      "|    148|      CHOCOLATE DUCK|\n",
      "|    108|       BUTCH PANTHER|\n",
      "|    950|        VOLUME HOUSE|\n",
      "|    642|      ORDER BETRAYED|\n",
      "|    874|        TADPOLE PARK|\n",
      "|    497|    KILL BROTHERHOOD|\n",
      "|    332|FRANKENSTEIN STRA...|\n",
      "|    192|    CROSSING DIVORCE|\n",
      "|    860|    SUICIDES SILENCE|\n",
      "|    128|       CATCH AMISTAD|\n",
      "|    671|     PERDITION FARGO|\n",
      "|    325|       FLOATS GARDEN|\n",
      "|    386|           GUMP DATE|\n",
      "|    955|        WALLS ARTIST|\n",
      "|    359|  GLADIATOR WESTWARD|\n",
      "|    419|         HOCUS FRIDA|\n",
      "|     41|ARSENIC INDEPENDENCE|\n",
      "|    607|         MUPPET MILE|\n",
      "|    318|   FIREHOUSE VIETNAM|\n",
      "|    742|       ROOF CHAMPION|\n",
      "+-------+--------------------+\n",
      "only showing top 20 rows\n",
      "\n"
     ]
    }
   ],
   "source": [
    "result.show()"
   ],
   "metadata": {
    "collapsed": false
   }
  },
  {
   "cell_type": "markdown",
   "source": [
    "# Вывести топ 3 актеров, которые больше всего появлялись в фильмах в категории “Children”. Если у нескольких актеров одинаковое кол-во фильмов, вывести всех.."
   ],
   "metadata": {
    "collapsed": false
   }
  },
  {
   "cell_type": "code",
   "execution_count": 33,
   "outputs": [],
   "source": [
    "children_movies = tables['category']\\\n",
    "    .filter(col('name') == 'Children')\\\n",
    "    .join(tables['film_category'], on='category_id')\\\n",
    "    .join(tables['film'], on='film_id')\\\n",
    "    .select('film_id')"
   ],
   "metadata": {
    "collapsed": false
   }
  },
  {
   "cell_type": "code",
   "execution_count": 34,
   "outputs": [],
   "source": [
    "result = children_movies\\\n",
    "    .join(tables['film_actor'], on='film_id')\\\n",
    "    .groupby('actor_id')\\\n",
    "    .agg(count('film_id').alias('film_count'))\\\n",
    "    .orderBy(col('film_count').desc())\\\n",
    "    .join(tables['actor'], on='actor_id')\\\n",
    "    .select('actor_id', 'first_name', 'last_name', 'film_count')\\\n",
    "    .limit(3)"
   ],
   "metadata": {
    "collapsed": false
   }
  },
  {
   "cell_type": "code",
   "execution_count": 35,
   "outputs": [
    {
     "name": "stdout",
     "output_type": "stream",
     "text": [
      "+--------+----------+---------+----------+\n",
      "|actor_id|first_name|last_name|film_count|\n",
      "+--------+----------+---------+----------+\n",
      "|     148|     EMILY|      DEE|         3|\n",
      "|     137|    MORGAN| WILLIAMS|         2|\n",
      "|      85|    MINNIE|ZELLWEGER|         1|\n",
      "+--------+----------+---------+----------+\n",
      "\n"
     ]
    }
   ],
   "source": [
    "result.show()"
   ],
   "metadata": {
    "collapsed": false
   }
  },
  {
   "cell_type": "markdown",
   "source": [
    "# Вывести города с количеством активных и неактивных клиентов (активный — customer.active = 1). Отсортировать по количеству неактивных клиентов по убыванию."
   ],
   "metadata": {
    "collapsed": false
   }
  },
  {
   "cell_type": "code",
   "execution_count": 36,
   "outputs": [],
   "source": [
    "from pyspark.sql.functions import when\n",
    "\n",
    "count_filter = lambda condition: _sum(when(condition, 1).otherwise(0))\n",
    "result = tables['address']\\\n",
    "    .join(tables['city'], on='city_id')\\\n",
    "    .join(tables['customer'], on='address_id')\\\n",
    "    .groupby('city')\\\n",
    "    .agg(count_filter(col('activebool') == True).alias('num_of_active_customers'),\n",
    "         count_filter(col('activebool') == False).alias('num_of_inactive_customers')) \\\n",
    "    .orderBy(col('num_of_active_customers').desc())\\\n",
    "    .select('city', 'num_of_active_customers', 'num_of_inactive_customers')"
   ],
   "metadata": {
    "collapsed": false
   }
  },
  {
   "cell_type": "code",
   "execution_count": 37,
   "outputs": [
    {
     "name": "stdout",
     "output_type": "stream",
     "text": [
      "+------------------+-----------------------+-------------------------+\n",
      "|              city|num_of_active_customers|num_of_inactive_customers|\n",
      "+------------------+-----------------------+-------------------------+\n",
      "|            London|                      2|                        0|\n",
      "|            Aurora|                      2|                        0|\n",
      "|A Corua (La Corua)|                      1|                        0|\n",
      "|          Fengshan|                      1|                        0|\n",
      "|              Linz|                      1|                        0|\n",
      "|          Myingyan|                      1|                        0|\n",
      "|          Chisinau|                      1|                        0|\n",
      "|       Sultanbeyli|                      1|                        0|\n",
      "|           Udaipur|                      1|                        0|\n",
      "|         Mit Ghamr|                      1|                        0|\n",
      "|           El Alto|                      1|                        0|\n",
      "|               Oyo|                      1|                        0|\n",
      "|      Juiz de Fora|                      1|                        0|\n",
      "|           Esfahan|                      1|                        0|\n",
      "|            Monywa|                      1|                        0|\n",
      "|            Jining|                      1|                        0|\n",
      "|    Dhule (Dhulia)|                      1|                        0|\n",
      "|          Salzburg|                      1|                        0|\n",
      "|           Tanauan|                      1|                        0|\n",
      "|          Sogamoso|                      1|                        0|\n",
      "+------------------+-----------------------+-------------------------+\n",
      "only showing top 20 rows\n",
      "\n"
     ]
    }
   ],
   "source": [
    "result.show()"
   ],
   "metadata": {
    "collapsed": false
   }
  },
  {
   "cell_type": "markdown",
   "source": [
    "# Вывести категорию фильмов, у которой самое большое кол-во часов суммарной аренды в городах (customer.address_id в этом city), и которые начинаются на букву “a”. Тоже самое сделать для городов в которых есть символ “-”."
   ],
   "metadata": {
    "collapsed": false
   }
  },
  {
   "cell_type": "code",
   "execution_count": 54,
   "outputs": [],
   "source": [
    "from pyspark.sql.functions import coalesce, current_date, datediff\n",
    "\n",
    "result = tables['city']\\\n",
    "    .filter(col('city').like('%A') | col('city').like('%-%'))\\\n",
    "    .join(tables['address'], on='city_id')\\\n",
    "    .join(tables['customer'], on='address_id')\\\n",
    "    .join(tables['rental'], on='customer_id')\\\n",
    "    .select('inventory_id', datediff(coalesce(col('return_date'), current_date()), col('rental_date')).alias('rental_duration'))\\\n",
    "    .join(tables['inventory'], on='inventory_id')\\\n",
    "    .groupby('film_id')\\\n",
    "    .agg(_sum(col('rental_duration')).alias('sum_rental_duration'))\\\n",
    "    .join(tables['film_category'], on='film_id')\\\n",
    "    .groupby('category_id')\\\n",
    "    .agg(_sum(col('sum_rental_duration')).alias('sum_rental_duration'))\\\n",
    "    .join(tables['category'], on='category_id')\\\n",
    "    .orderBy(col('sum_rental_duration').desc())\\\n",
    "    .limit(1)"
   ],
   "metadata": {
    "collapsed": false
   }
  },
  {
   "cell_type": "code",
   "execution_count": 55,
   "outputs": [
    {
     "name": "stderr",
     "output_type": "stream",
     "text": [
      "                                                                                \r"
     ]
    },
    {
     "name": "stdout",
     "output_type": "stream",
     "text": [
      "+-----------+-------------------+------+-------------------+\n",
      "|category_id|sum_rental_duration|  name|        last_update|\n",
      "+-----------+-------------------+------+-------------------+\n",
      "|         15|                613|Sports|2022-02-15 12:46:27|\n",
      "+-----------+-------------------+------+-------------------+\n",
      "\n"
     ]
    }
   ],
   "source": [
    "result.show()"
   ],
   "metadata": {
    "collapsed": false
   }
  }
 ],
 "metadata": {
  "kernelspec": {
   "display_name": "Python 3",
   "language": "python",
   "name": "python3"
  },
  "language_info": {
   "codemirror_mode": {
    "name": "ipython",
    "version": 2
   },
   "file_extension": ".py",
   "mimetype": "text/x-python",
   "name": "python",
   "nbconvert_exporter": "python",
   "pygments_lexer": "ipython2",
   "version": "2.7.6"
  }
 },
 "nbformat": 4,
 "nbformat_minor": 0
}
