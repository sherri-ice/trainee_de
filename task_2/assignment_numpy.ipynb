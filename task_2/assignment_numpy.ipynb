{
 "cells": [
  {
   "cell_type": "markdown",
   "id": "d3df79dd",
   "metadata": {},
   "source": [
    "## Упражнения по библиотеке Numpy"
   ]
  },
  {
   "cell_type": "code",
   "execution_count": 1,
   "id": "76b9c43b",
   "metadata": {},
   "outputs": [],
   "source": [
    "import numpy as np\n",
    "import scipy as scipy"
   ]
  },
  {
   "cell_type": "markdown",
   "id": "03727b7c",
   "metadata": {},
   "source": [
    "**1.** Дан случайный массив, поменять знак у элементов, значения которых между 3 и 8"
   ]
  },
  {
   "cell_type": "code",
   "execution_count": 2,
   "id": "b89a7523",
   "metadata": {},
   "outputs": [],
   "source": [
    "array = np.random.randint(low=1, high=10, size=100)\n",
    "array[(3 <= array) & (array <= 8)] = -array[(3 <= array) & (array <= 8)]"
   ]
  },
  {
   "cell_type": "markdown",
   "id": "5fa4abda",
   "metadata": {},
   "source": [
    "**2.** Заменить максимальный элемент случайного массива на 0"
   ]
  },
  {
   "cell_type": "code",
   "execution_count": 3,
   "id": "f2788a6e",
   "metadata": {},
   "outputs": [
    {
     "name": "stdout",
     "output_type": "stream",
     "text": [
      "Prev max: 9, prev pos: 2\n",
      "Current max: 9, cur pos: 6\n"
     ]
    }
   ],
   "source": [
    "array = np.random.randint(low=1, high=10, size=100)\n",
    "prev_max, prev_max_pos = array.max(), np.argmax(array)\n",
    "array[prev_max_pos] = 0\n",
    "cur_max, cur_max_pos = array.max(), np.argmax(array)\n",
    "print(f\"Prev max: {prev_max}, prev pos: {prev_max_pos}\")\n",
    "print(f\"Current max: {cur_max}, cur pos: {cur_max_pos}\")"
   ]
  },
  {
   "cell_type": "markdown",
   "id": "3cac656b",
   "metadata": {},
   "source": [
    "**3.** Построить прямое произведение массивов (все комбинации с каждым элементом). На вход подается двумерный массив"
   ]
  },
  {
   "cell_type": "code",
   "execution_count": 4,
   "id": "3396b764",
   "metadata": {},
   "outputs": [
    {
     "data": {
      "text/plain": "array([[  0.,  10.,  22.],\n       [ 36.,  52.,  70.],\n       [ 90., 112., 136.]])"
     },
     "execution_count": 4,
     "metadata": {},
     "output_type": "execute_result"
    }
   ],
   "source": [
    "x = np.arange(9.0).reshape((3, 3))\n",
    "y = np.arange(9.0, 18.0).reshape((3, 3,))\n",
    "np.multiply(x, y)"
   ]
  },
  {
   "cell_type": "markdown",
   "id": "674c9354",
   "metadata": {},
   "source": [
    "**4.** Даны 2 массива A (8x3) и B (2x2). Найти строки в A, которые содержат элементы из каждой строки в B, независимо от порядка элементов в B"
   ]
  },
  {
   "cell_type": "code",
   "execution_count": 5,
   "id": "cb664782",
   "metadata": {},
   "outputs": [
    {
     "name": "stdout",
     "output_type": "stream",
     "text": [
      "A = \n",
      " [[8 2 3]\n",
      " [8 5 5]\n",
      " [6 3 3]\n",
      " [9 9 4]\n",
      " [1 3 4]\n",
      " [2 3 6]\n",
      " [3 3 4]\n",
      " [3 9 5]]\n",
      "\n",
      "B = \n",
      " [[8 3]\n",
      " [1 9]]\n",
      "\n",
      "Rows:  [4 7]\n",
      "In A:  [[1 3 4]\n",
      " [3 9 5]]\n"
     ]
    }
   ],
   "source": [
    "A = np.random.randint(low=1, high=10, size=(8, 3))\n",
    "B = np.random.randint(low=1, high=10, size=(2, 2))\n",
    "\n",
    "print(\"A = \\n\", A, end='\\n\\n')\n",
    "print(\"B = \\n\", B, end='\\n\\n')\n",
    "\n",
    "C = (A[..., np.newaxis, np.newaxis] == B)\n",
    "rows = np.where(C.any((3,1)).all(axis=1))[0]\n",
    "print(\"Rows: \", rows)\n",
    "print(\"In A: \", A[rows])"
   ]
  },
  {
   "cell_type": "markdown",
   "id": "fa46533b",
   "metadata": {},
   "source": [
    " **5.** Дана 10x3 матрица, найти строки из неравных значений (например строка [2,2,3] остается, строка [3,3,3] удаляется)"
   ]
  },
  {
   "cell_type": "code",
   "execution_count": 6,
   "id": "fa545b23",
   "metadata": {},
   "outputs": [
    {
     "name": "stdout",
     "output_type": "stream",
     "text": [
      "[[9 8 8]\n",
      " [4 8 3]\n",
      " [5 8 9]\n",
      " [8 7 7]\n",
      " [3 3 6]\n",
      " [7 1 4]\n",
      " [5 3 2]\n",
      " [8 5 9]\n",
      " [8 9 8]\n",
      " [5 2 5]]\n",
      "[[9 8 8]\n",
      " [4 8 3]\n",
      " [5 8 9]\n",
      " [8 7 7]\n",
      " [3 3 6]\n",
      " [7 1 4]\n",
      " [5 3 2]\n",
      " [8 5 9]\n",
      " [8 9 8]\n",
      " [5 2 5]]\n"
     ]
    }
   ],
   "source": [
    "matrix = np.random.randint(low=1, high=10, size=(10, 3))\n",
    "print(matrix)\n",
    "\n",
    "mask = np.all(matrix[:,1:] == matrix[:,:-1], axis=1)\n",
    "new_matrix = matrix[~mask]\n",
    "print(new_matrix)"
   ]
  },
  {
   "cell_type": "markdown",
   "id": "28f0d116",
   "metadata": {},
   "source": [
    "**6.** Дан двумерный массив. Удалить те строки, которые повторяются"
   ]
  },
  {
   "cell_type": "code",
   "execution_count": 7,
   "id": "83d2c0b7",
   "metadata": {},
   "outputs": [
    {
     "name": "stdout",
     "output_type": "stream",
     "text": [
      "[[1]\n",
      " [2]\n",
      " [3]\n",
      " [4]\n",
      " [5]\n",
      " [6]\n",
      " [7]\n",
      " [8]\n",
      " [9]]\n"
     ]
    }
   ],
   "source": [
    "array = np.random.randint(low=1, high=10, size=(100, 1))\n",
    "new_array = np.unique(array, axis=0)\n",
    "_, counts = np.unique(new_array, axis=0, return_counts=True)\n",
    "assert len(new_array[counts > 1]) == 0\n",
    "print(new_array)"
   ]
  },
  {
   "cell_type": "markdown",
   "id": "6daa9e37",
   "metadata": {},
   "source": [
    "______\n",
    "______"
   ]
  },
  {
   "cell_type": "markdown",
   "id": "cfbfcaff",
   "metadata": {},
   "source": [
    "Для каждой из следующих задач (1-5) нужно привести 2 реализации – одна без использования numpy (cчитайте, что там, где на входе или выходе должны быть numpy array, будут просто списки), а вторая полностью векторизованная с использованием numpy (без использования питоновских циклов/map/list comprehension).\n",
    "\n",
    "\n",
    "__Замечание 1.__ Можно считать, что все указанные объекты непустые (к примеру, в __задаче 1__ на диагонали матрицы есть ненулевые элементы).\n",
    "\n",
    "__Замечание 2.__ Для большинства задач решение занимает не больше 1-2 строк."
   ]
  },
  {
   "cell_type": "markdown",
   "id": "673cac7f",
   "metadata": {},
   "source": [
    "___"
   ]
  },
  {
   "cell_type": "markdown",
   "id": "ca6f585e",
   "metadata": {},
   "source": [
    "* __Задача 1__: Подсчитать произведение ненулевых элементов на диагонали прямоугольной матрицы.  \n",
    " Например, для X = np.array([[1, 0, 1], [2, 0, 2], [3, 0, 3], [4, 4, 4]]) ответ 3."
   ]
  },
  {
   "cell_type": "code",
   "execution_count": 44,
   "id": "065862fc",
   "metadata": {},
   "outputs": [
    {
     "name": "stdout",
     "output_type": "stream",
     "text": [
      "4.41 µs ± 479 ns per loop (mean ± std. dev. of 7 runs, 100,000 loops each)\n",
      "Result =  3\n"
     ]
    }
   ],
   "source": [
    "X = np.array([[1, 0, 1], [2, 0, 2], [3, 0, 3], [4, 4, 4]])\n",
    "\n",
    "def numpy_solve():\n",
    "    return X.diagonal()[X.diagonal() > 0].prod()\n",
    "\n",
    "result = %timeit -o numpy_solve()\n",
    "print(\"Result =\", numpy_solve())"
   ]
  },
  {
   "cell_type": "code",
   "execution_count": 45,
   "outputs": [
    {
     "name": "stdout",
     "output_type": "stream",
     "text": [
      "928 ns ± 43.8 ns per loop (mean ± std. dev. of 7 runs, 1,000,000 loops each)\n",
      "Result =  3\n"
     ]
    }
   ],
   "source": [
    "from functools import reduce\n",
    "\n",
    "X_pure = [[1, 0, 1], [2, 0, 2], [3, 0, 3], [4, 4, 4]]\n",
    "\n",
    "def pure_python_solve():\n",
    "    return reduce((lambda i, j: i * j), [X_pure[i][i] for i in range(min(len(X_pure), len(X_pure[0]))) if X_pure[i][i] > 0])\n",
    "\n",
    "%timeit pure_python_solve()\n",
    "print(\"Result =\", pure_python_solve())"
   ],
   "metadata": {
    "collapsed": false
   }
  },
  {
   "cell_type": "markdown",
   "id": "9fc51d41",
   "metadata": {},
   "source": [
    "* __Задача 2__: Даны два вектора x и y. Проверить, задают ли они одно и то же мультимножество.  \n",
    "  Например, для x = np.array([1, 2, 2, 4]), y = np.array([4, 2, 1, 2]) ответ True."
   ]
  },
  {
   "cell_type": "code",
   "execution_count": 51,
   "id": "a809e02f",
   "metadata": {},
   "outputs": [
    {
     "name": "stdout",
     "output_type": "stream",
     "text": [
      "8.48 µs ± 404 ns per loop (mean ± std. dev. of 7 runs, 100,000 loops each)\n",
      "Result =  True\n"
     ]
    }
   ],
   "source": [
    "x = np.array([1, 2, 2, 4])\n",
    "y = np.array([4, 2, 1, 2])\n",
    "\n",
    "def numpy_solve():\n",
    "    return np.array_equiv(np.sort(x,axis=0), np.sort(y,axis=0))\n",
    "\n",
    "%timeit numpy_solve()\n",
    "print(\"Result =\", numpy_solve())"
   ]
  },
  {
   "cell_type": "code",
   "execution_count": 52,
   "outputs": [
    {
     "name": "stdout",
     "output_type": "stream",
     "text": [
      "362 ns ± 3.5 ns per loop (mean ± std. dev. of 7 runs, 1,000,000 loops each)\n",
      "Result = True\n"
     ]
    }
   ],
   "source": [
    "x_pure = [1, 2, 2, 4]\n",
    "y_pure = [4, 2, 1, 2]\n",
    "\n",
    "def pure_python_solve():\n",
    "    x = sorted(x_pure)\n",
    "    y = sorted(y_pure)\n",
    "    return x == y\n",
    "\n",
    "%timeit pure_python_solve()\n",
    "print(\"Result =\", pure_python_solve())"
   ],
   "metadata": {
    "collapsed": false
   }
  },
  {
   "cell_type": "markdown",
   "id": "b9c185c7",
   "metadata": {},
   "source": [
    "* __Задача 3__: Найти максимальный элемент в векторе x среди элементов, перед которыми стоит ноль.\n",
    " Например, для x = np.array([6, 2, 0, 3, 0, 0, 5, 7, 0]) ответ 5."
   ]
  },
  {
   "cell_type": "code",
   "execution_count": 66,
   "id": "b57df008",
   "metadata": {},
   "outputs": [
    {
     "name": "stdout",
     "output_type": "stream",
     "text": [
      "4.45 µs ± 66.4 ns per loop (mean ± std. dev. of 7 runs, 100,000 loops each)\n",
      "Result = 5\n"
     ]
    }
   ],
   "source": [
    "x = np.array([6, 2, 0, 3, 0, 0, 5, 7, 0])\n",
    "\n",
    "def numpy_solve():\n",
    "    return x[1:][(x == 0)[:-1]].max()\n",
    "\n",
    "%timeit numpy_solve()\n",
    "print(\"Result =\", numpy_solve())"
   ]
  },
  {
   "cell_type": "code",
   "execution_count": 67,
   "outputs": [
    {
     "name": "stdout",
     "output_type": "stream",
     "text": [
      "873 ns ± 29 ns per loop (mean ± std. dev. of 7 runs, 1,000,000 loops each)\n",
      "Result = 5\n"
     ]
    }
   ],
   "source": [
    "x = [6, 2, 0, 3, 0, 0, 5, 7, 0]\n",
    "\n",
    "def pure_python_solve():\n",
    "    return max(x[i] for i in range(1, len(x)) if not x[i-1])\n",
    "\n",
    "%timeit pure_python_solve()\n",
    "print(\"Result =\", pure_python_solve())"
   ],
   "metadata": {
    "collapsed": false
   }
  },
  {
   "cell_type": "markdown",
   "id": "480be4ce",
   "metadata": {},
   "source": [
    "* __Задача 4__: Реализовать кодирование длин серий (Run-length encoding). Для некоторого вектора x необходимо вернуть кортеж из двух векторов одинаковой длины. Первый содержит числа, а второй - сколько раз их нужно повторить.  \n",
    " Например, для x = np.array([2, 2, 2, 3, 3, 3, 5]) ответ (np.array([2, 3, 5]), np.array([3, 3, 1]))."
   ]
  },
  {
   "cell_type": "code",
   "execution_count": 81,
   "id": "3c592124",
   "metadata": {},
   "outputs": [
    {
     "name": "stdout",
     "output_type": "stream",
     "text": [
      "32.8 µs ± 4.99 µs per loop (mean ± std. dev. of 7 runs, 10,000 loops each)\n",
      "Result = (array([ 1,  2,  3,  4,  5,  6,  7,  8,  9, 10]), array([ 97,  99, 109, 123, 104,  99,  90,  97,  97,  85]))\n"
     ]
    }
   ],
   "source": [
    "x = np.random.randint(low=1, high=11, size=1000)\n",
    "\n",
    "def numpy_solve():\n",
    "    return np.unique(x, return_counts=True)\n",
    "\n",
    "%timeit numpy_solve()\n",
    "print(\"Result =\", numpy_solve())"
   ]
  },
  {
   "cell_type": "code",
   "execution_count": 82,
   "outputs": [
    {
     "name": "stdout",
     "output_type": "stream",
     "text": [
      "67.1 µs ± 3.52 µs per loop (mean ± std. dev. of 7 runs, 10,000 loops each)\n",
      "Result = (dict_keys([8, 7, 5, 2, 6, 10, 4, 9, 3, 1]), dict_values([92, 114, 102, 121, 104, 91, 85, 98, 102, 91]))\n"
     ]
    }
   ],
   "source": [
    "from random import randint, random\n",
    "from collections import defaultdict\n",
    "\n",
    "x = [randint(a=1, b=10) for i in range(1000)]\n",
    "\n",
    "def pure_python_solve():\n",
    "    d = defaultdict(lambda: 0)\n",
    "    for i in x:\n",
    "        d[i] += 1\n",
    "    return d.keys(), d.values()\n",
    "\n",
    "%timeit pure_python_solve()\n",
    "print(\"Result =\", pure_python_solve())"
   ],
   "metadata": {
    "collapsed": false
   }
  },
  {
   "cell_type": "markdown",
   "id": "077532ec",
   "metadata": {},
   "source": [
    "* __Задача 5__: Даны две выборки объектов - X и Y. Вычислить матрицу евклидовых расстояний между объектами. Сравните с функцией scipy.spatial.distance.cdist по скорости работы."
   ]
  },
  {
   "cell_type": "code",
   "execution_count": 102,
   "id": "1e807797",
   "metadata": {},
   "outputs": [
    {
     "name": "stdout",
     "output_type": "stream",
     "text": [
      "392 µs ± 59.4 µs per loop (mean ± std. dev. of 7 runs, 1,000 loops each)\n"
     ]
    }
   ],
   "source": [
    "import scipy\n",
    "\n",
    "x = np.random.rand(100, 100)\n",
    "y = np.random.rand(100, 100)\n",
    "\n",
    "def scipy_solve():\n",
    "    return scipy.spatial.distance.cdist(x, y)\n",
    "\n",
    "%timeit scipy_solve()"
   ]
  },
  {
   "cell_type": "code",
   "execution_count": 103,
   "outputs": [
    {
     "name": "stdout",
     "output_type": "stream",
     "text": [
      "117 ms ± 900 µs per loop (mean ± std. dev. of 7 runs, 10 loops each)\n"
     ]
    }
   ],
   "source": [
    "import math\n",
    "\n",
    "x = [[random() for j in range(100)] for i in range(100)]\n",
    "y = [[random() for j in range(100)] for i in range(100)]\n",
    "\n",
    "def pure_python_solve():\n",
    "    matrix = []\n",
    "    for i in x:\n",
    "        matrix.append([])\n",
    "        for j in y:\n",
    "            matrix[-1].append(math.sqrt(sum([(a - b) ** 2 for a, b in zip(i, j)])))\n",
    "    return matrix\n",
    "\n",
    "%timeit pure_python_solve()"
   ],
   "metadata": {
    "collapsed": false
   }
  },
  {
   "cell_type": "markdown",
   "id": "973e8064",
   "metadata": {},
   "source": [
    "_______\n",
    "________"
   ]
  },
  {
   "cell_type": "markdown",
   "id": "1104acb7",
   "metadata": {},
   "source": [
    "* #### __Задача 6__: CrunchieMunchies __*__\n",
    "\n",
    "Вы работаете в отделе маркетинга пищевой компании MyCrunch, которая разрабатывает новый вид вкусных, полезных злаков под названием **CrunchieMunchies**.\n",
    "\n",
    "Вы хотите продемонстрировать потребителям, насколько полезны ваши хлопья по сравнению с другими ведущими брендами, поэтому вы собрали данные о питании нескольких разных конкурентов.\n",
    "\n",
    "Ваша задача - использовать вычисления Numpy для анализа этих данных и доказать, что ваши **СrunchieMunchies** - самый здоровый выбор для потребителей.\n"
   ]
  },
  {
   "cell_type": "code",
   "execution_count": 14,
   "id": "10a77f8d",
   "metadata": {},
   "outputs": [],
   "source": [
    "import numpy as np"
   ]
  },
  {
   "cell_type": "markdown",
   "id": "ab87cb03",
   "metadata": {},
   "source": [
    "1. Просмотрите файл cereal.csv. Этот файл содержит количества калорий для различных марок хлопьев. Загрузите данные из файла и сохраните их как calorie_stats."
   ]
  },
  {
   "cell_type": "code",
   "execution_count": 112,
   "id": "9681ebf2",
   "metadata": {},
   "outputs": [
    {
     "data": {
      "text/plain": "array([ 70., 120.,  70.,  50., 110., 110., 110., 130.,  90.,  90., 120.,\n       110., 120., 110., 110., 110., 100., 110., 110., 110., 100., 110.,\n       100., 100., 110., 110., 100., 120., 120., 110., 100., 110., 100.,\n       110., 120., 120., 110., 110., 110., 140., 110., 100., 110., 100.,\n       150., 150., 160., 100., 120., 140.,  90., 130., 120., 100.,  50.,\n        50., 100., 100., 120., 100.,  90., 110., 110.,  80.,  90.,  90.,\n       110., 110.,  90., 110., 140., 100., 110., 110., 100., 100., 110.])"
     },
     "execution_count": 112,
     "metadata": {},
     "output_type": "execute_result"
    }
   ],
   "source": [
    "calorie_stats = np.loadtxt(\"./data/cereal.csv\", delimiter=\",\")\n",
    "calorie_stats"
   ]
  },
  {
   "cell_type": "markdown",
   "id": "139cfbd8",
   "metadata": {},
   "source": [
    "2. В одной порции CrunchieMunchies содержится 60 калорий. Насколько выше среднее количество калорий у ваших конкурентов?\n",
    "\n",
    "Сохраните ответ в переменной average_calories и распечатайте переменную в терминале"
   ]
  },
  {
   "cell_type": "code",
   "execution_count": 113,
   "id": "7036d240",
   "metadata": {},
   "outputs": [
    {
     "name": "stdout",
     "output_type": "stream",
     "text": [
      "Average calories: 106.88311688311688, upon our product: 46.883116883116884\n"
     ]
    }
   ],
   "source": [
    "average_calories = calorie_stats.mean()\n",
    "print(f\"Average calories: {average_calories}, upon our product: {average_calories - 60.}\")"
   ]
  },
  {
   "cell_type": "markdown",
   "id": "b2ddb4cd",
   "metadata": {},
   "source": [
    "3. Корректно ли среднее количество калорий отражает распределение набора данных? Давайте отсортируем данные и посмотрим.\n",
    "\n",
    "Отсортируйте данные и сохраните результат в переменной calorie_stats_sorted. Распечатайте отсортированную информацию"
   ]
  },
  {
   "cell_type": "code",
   "execution_count": 114,
   "id": "46eeb4ed",
   "metadata": {},
   "outputs": [
    {
     "data": {
      "text/plain": "array([ 50.,  50.,  50.,  70.,  70.,  80.,  90.,  90.,  90.,  90.,  90.,\n        90.,  90., 100., 100., 100., 100., 100., 100., 100., 100., 100.,\n       100., 100., 100., 100., 100., 100., 100., 100., 110., 110., 110.,\n       110., 110., 110., 110., 110., 110., 110., 110., 110., 110., 110.,\n       110., 110., 110., 110., 110., 110., 110., 110., 110., 110., 110.,\n       110., 110., 110., 110., 120., 120., 120., 120., 120., 120., 120.,\n       120., 120., 120., 130., 130., 140., 140., 140., 150., 150., 160.])"
     },
     "execution_count": 114,
     "metadata": {},
     "output_type": "execute_result"
    }
   ],
   "source": [
    "calorie_stats_sorted = calorie_stats\n",
    "calorie_stats_sorted.sort()\n",
    "calorie_stats_sorted"
   ]
  },
  {
   "cell_type": "markdown",
   "id": "4dc74116",
   "metadata": {},
   "source": [
    "4. Похоже, что большинство значений выше среднего. Давайте посмотрим, является ли медиана наиболее корректным показателем набора данных.\n",
    "\n",
    "Вычислите медиану набора данных и сохраните свой ответ в median_calories. Выведите медиану, чтобы вы могли видеть, как она сравнивается со средним значением."
   ]
  },
  {
   "cell_type": "code",
   "execution_count": 116,
   "id": "b56627c3",
   "metadata": {},
   "outputs": [
    {
     "data": {
      "text/plain": "110.0"
     },
     "execution_count": 116,
     "metadata": {},
     "output_type": "execute_result"
    }
   ],
   "source": [
    "median_calories = np.median(calorie_stats)\n",
    "median_calories"
   ]
  },
  {
   "cell_type": "markdown",
   "id": "a63ab72f",
   "metadata": {},
   "source": [
    "5. В то время как медиана показывает, что по крайней мере половина наших значений составляет более 100 калорий, было бы более впечатляюще показать, что значительная часть конкурентов имеет более высокое количество калорий, чем CrunchieMunchies.\n",
    "\n",
    "Рассчитайте различные процентили и распечатайте их, пока не найдете наименьший процентиль, превышающий 60 калорий. Сохраните это значение в переменной nth_percentile."
   ]
  },
  {
   "cell_type": "code",
   "execution_count": 138,
   "id": "fe80ce03",
   "metadata": {},
   "outputs": [
    {
     "name": "stdout",
     "output_type": "stream",
     "text": [
      "4%\n"
     ]
    }
   ],
   "source": [
    "nth_percentile = 100\n",
    "value = np.percentile(calorie_stats, nth_percentile)\n",
    "while value > 60:\n",
    "    nth_percentile -= 1\n",
    "    value = np.percentile(calorie_stats, nth_percentile)\n",
    "nth_percentile += 1\n",
    "print(f\"{nth_percentile}%\")"
   ]
  },
  {
   "cell_type": "markdown",
   "id": "a2a3c5aa",
   "metadata": {},
   "source": [
    "6. Хотя процентиль показывает нам, что у большинства конкурентов количество калорий намного выше, это неудобная концепция для использования в маркетинговых материалах.\n",
    "\n",
    "Вместо этого давайте подсчитаем процент хлопьев, в которых содержится более 60 калорий на порцию. Сохраните свой ответ в переменной more_calories и распечатайте его"
   ]
  },
  {
   "cell_type": "code",
   "execution_count": 143,
   "id": "ade0f6ea",
   "metadata": {},
   "outputs": [
    {
     "data": {
      "text/plain": "96.1038961038961"
     },
     "execution_count": 143,
     "metadata": {},
     "output_type": "execute_result"
    }
   ],
   "source": [
    "calorie_stats[calorie_stats > 60].shape[0]/calorie_stats.shape[0] * 100"
   ]
  },
  {
   "cell_type": "markdown",
   "id": "1735d65b",
   "metadata": {},
   "source": [
    "7. Это действительно высокий процент. Это будет очень полезно, когда мы будем продвигать CrunchieMunchies. Но один вопрос заключается в том, насколько велики различия в наборе данных? Можем ли мы сделать обобщение, что в большинстве злаков содержится около 100 калорий или разброс еще больше?\n",
    "\n",
    "Рассчитайте величину отклонения, найдя стандартное отклонение, Сохраните свой ответ в calorie_std и распечатайте на терминале. Как мы можем включить эту ценность в наш анализ?"
   ]
  },
  {
   "cell_type": "code",
   "execution_count": 147,
   "id": "85c8df1f",
   "metadata": {},
   "outputs": [
    {
     "name": "stdout",
     "output_type": "stream",
     "text": [
      "Mean: 110.0 +- 19.35718533390827\n"
     ]
    }
   ],
   "source": [
    "calorie_std = np.std(calorie_stats)\n",
    "print(f\"Mean: {median_calories} +- {calorie_std}\")"
   ]
  },
  {
   "cell_type": "markdown",
   "id": "037455c5",
   "metadata": {},
   "source": [
    "8. Напишите короткий абзац, в котором кратко изложите свои выводы и то, как, по вашему мнению, эти данные могут быть использованы в интересах Mycrunch при маркетинге CrunchieMunchies."
   ]
  },
  {
   "cell_type": "markdown",
   "source": [
    "Полученные данные можно использовать при разработке или улучшении формулы производимого продукта. Можно заранее рассчитать насколько продукт лучше своих конкурентов, качество этого продукта, при доп имнформации по продажам конкурентов, думаю, можно сделать предположение о доходе.\n",
    "Найденные данные также можно успешно использовать в маркетинговой продукции компании, например можно указать на упаковке батончиков процент конкурентов, которым продукт уступает по калоражу."
   ],
   "metadata": {
    "collapsed": false
   }
  }
 ],
 "metadata": {
  "kernelspec": {
   "display_name": "Python 3 (ipykernel)",
   "language": "python",
   "name": "python3"
  },
  "language_info": {
   "codemirror_mode": {
    "name": "ipython",
    "version": 3
   },
   "file_extension": ".py",
   "mimetype": "text/x-python",
   "name": "python",
   "nbconvert_exporter": "python",
   "pygments_lexer": "ipython3",
   "version": "3.8.10"
  }
 },
 "nbformat": 4,
 "nbformat_minor": 5
}
